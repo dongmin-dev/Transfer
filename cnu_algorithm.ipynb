{
 "cells": [
  {
   "cell_type": "code",
   "execution_count": 6,
   "metadata": {},
   "outputs": [
    {
     "name": "stdout",
     "output_type": "stream",
     "text": [
      "14진법으로 변환했을 때 자릿수는 2개입니다.\n",
      "14진법 변환 결과: 77\n"
     ]
    }
   ],
   "source": [
    "# 입력받은 10진수 n에 대해 14진법으로 나타낼 때 자릿수의 개수를 출력하시오.\n",
    "def count_and_convert_to_base14(n):\n",
    "    if n == 0:\n",
    "        # 특별 처리: 0은 그대로 출력\n",
    "        return 1, \"0\"\n",
    "    \n",
    "    digits = []\n",
    "    while n > 0:\n",
    "        remainder = n % 14\n",
    "        # 10 이상은 문자로 변환 (A, B, C, ...)\n",
    "        if remainder >= 10:\n",
    "            digits.append(chr(remainder - 10 + ord('A')))\n",
    "        else:\n",
    "            digits.append(str(remainder))\n",
    "        n //= 14\n",
    "\n",
    "    # 역순으로 정렬하여 최종 14진수 문자열 생성\n",
    "    base14_number = ''.join(reversed(digits))\n",
    "    return len(base14_number), base14_number\n",
    "\n",
    "\n",
    "# 입력 받기\n",
    "n = int(input(\"10진수 정수 n을 입력하세요: \"))\n",
    "digit_count, base14_number = count_and_convert_to_base14(n)\n",
    "print(f\"14진법으로 변환했을 때 자릿수는 {digit_count}개입니다.\")\n",
    "print(f\"14진법 변환 결과: {base14_number}\")"
   ]
  },
  {
   "cell_type": "code",
   "execution_count": 2,
   "metadata": {},
   "outputs": [
    {
     "name": "stdout",
     "output_type": "stream",
     "text": [
      "56와 98의 최대공약수는 14입니다.\n"
     ]
    }
   ],
   "source": [
    "# 최대공약수 구하기 (유클리드 호제법)\n",
    "def gcd(a, b):\n",
    "    while b != 0:\n",
    "        a, b = b, a%b\n",
    "    return a\n",
    "\n",
    "a = int(input(\"첫 번째 정수 입력\"))\n",
    "b = int(input(\"두 번째 정수 입력\"))\n",
    "\n",
    "answer = gcd(a, b)\n",
    "print(f\"{a}와 {b}의 최대공약수는 {answer}입니다.\")"
   ]
  },
  {
   "cell_type": "code",
   "execution_count": 11,
   "metadata": {},
   "outputs": [
    {
     "name": "stdout",
     "output_type": "stream",
     "text": [
      "120\n"
     ]
    }
   ],
   "source": [
    "def factorial(n):\n",
    "    if n == 1:\n",
    "        return 1\n",
    "    \n",
    "    else:\n",
    "        return n * factorial(n-1)\n",
    "\n",
    "print(factorial(5))"
   ]
  },
  {
   "cell_type": "code",
   "execution_count": 2,
   "metadata": {},
   "outputs": [
    {
     "name": "stdout",
     "output_type": "stream",
     "text": [
      "8의 index >> 0\n",
      "9의 index >> 3\n",
      "6의 index >> -1\n"
     ]
    }
   ],
   "source": [
    "# 자료의 순차 검색\n",
    "def linearSearch1(array, key):\n",
    "    i = 0\n",
    "    while i < len(array) and array[i] != key:\n",
    "        i += 1\n",
    "    if i < len(array):\n",
    "        return i\n",
    "    else:\n",
    "        return -1\n",
    "\n",
    "key = int(input(\"찾을 숫자 입력\"))\n",
    "while key != -1:\n",
    "    print(f\"{key}의 index >> {linearSearch1([8,30,1,9,11,19,2], key)}\")\n",
    "    key = int(input(\"찾을 숫자 입력\"))"
   ]
  },
  {
   "cell_type": "code",
   "execution_count": 6,
   "metadata": {},
   "outputs": [
    {
     "name": "stdout",
     "output_type": "stream",
     "text": [
      "4 not in array!\n",
      "3 not in array!\n",
      "2 index >> 6\n",
      "1 index >> 2\n"
     ]
    }
   ],
   "source": [
    "# 자료의 순차 검색\n",
    "def linearSearch1(array, key):\n",
    "    return array.index(key)\n",
    "\n",
    "array = [8,30,1,9,11,19,2]\n",
    "key = int(input(\"찾을 숫자 입력\"))\n",
    "\n",
    "while key != -1:\n",
    "    try:\n",
    "        print(f\"{key} index >> {linearSearch1(array, key)}\")\n",
    "    except:\n",
    "        print(f\"{key} not in array!\")\n",
    "    key = int(input(\"찾을 숫자 입력\"))"
   ]
  },
  {
   "cell_type": "code",
   "execution_count": 8,
   "metadata": {},
   "outputs": [
    {
     "name": "stdout",
     "output_type": "stream",
     "text": [
      "2 index >> 1\n",
      "1 index >> 0\n",
      "8 index >> 2\n",
      "3 index >> -1\n"
     ]
    }
   ],
   "source": [
    "# 정렬된 자료의 순차검색\n",
    "def linearSearch2(array, key):\n",
    "    i = 0\n",
    "    \n",
    "    while array[i] < key:\n",
    "        i += 1\n",
    "    \n",
    "    if array[i] == key:\n",
    "        return i\n",
    "    else:\n",
    "        return -1\n",
    "\n",
    "array = [1,2,8,9,11,19,29]\n",
    "key = int(input(\"찾을 숫자 입력\"))\n",
    "\n",
    "while key != -1:\n",
    "    print(f\"{key} index >> {linearSearch2(array, key)}\")\n",
    "    key = int(input(\"찾을 숫자 입력\"))"
   ]
  },
  {
   "cell_type": "code",
   "execution_count": 18,
   "metadata": {},
   "outputs": [
    {
     "name": "stdout",
     "output_type": "stream",
     "text": [
      "검색할 배열: [1, 2, 8, 9, 11, 19, 29]\n",
      "no 5 in array! search count >> 3\n",
      "no 4 in array! search count >> 3\n",
      "no 3 in array! search count >> 3\n",
      "key: 1 index >> 0, search count >> 3\n",
      "key: 2 index >> 1, search count >> 2\n",
      "key: 9 index >> 3, search count >> 1\n"
     ]
    }
   ],
   "source": [
    "# 이진 검색\n",
    "def binarySearch(array, begin, end, key, count=0):\n",
    "    if begin > end:\n",
    "        return -1, count\n",
    "    \n",
    "    middle = (begin+end)//2\n",
    "    count += 1\n",
    "    \n",
    "    if key == array[middle]:\n",
    "        return middle, count\n",
    "    elif key < array[middle]:\n",
    "        return binarySearch(array, begin, middle-1, key, count)\n",
    "    else:\n",
    "        return binarySearch(array, middle+1, end, key, count)\n",
    "\n",
    "array = [1,2,8,9,11,19,29]\n",
    "[print(f\"검색할 배열: {array}\")]\n",
    "key = int(input(\"검색할 키를 입력\"))\n",
    "\n",
    "while key != -1:\n",
    "    result, count = binarySearch(array, 0, len(array)-1, key)\n",
    "    if result != -1:\n",
    "        print(f\"key: {key} index >> {result}, search count >> {count}\")\n",
    "    else:\n",
    "        print(f\"no {key} in array! search count >> {count}\")\n",
    "    key = int(input(\"검색할 키를 입력\"))"
   ]
  },
  {
   "cell_type": "code",
   "execution_count": null,
   "metadata": {},
   "outputs": [],
   "source": []
  }
 ],
 "metadata": {
  "kernelspec": {
   "display_name": "base",
   "language": "python",
   "name": "python3"
  },
  "language_info": {
   "codemirror_mode": {
    "name": "ipython",
    "version": 3
   },
   "file_extension": ".py",
   "mimetype": "text/x-python",
   "name": "python",
   "nbconvert_exporter": "python",
   "pygments_lexer": "ipython3",
   "version": "3.12.7"
  }
 },
 "nbformat": 4,
 "nbformat_minor": 2
}
